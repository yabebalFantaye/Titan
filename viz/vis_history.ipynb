{
 "cells": [
  {
   "cell_type": "code",
   "execution_count": 1,
   "metadata": {
    "ExecuteTime": {
     "end_time": "2018-02-07T18:05:40.777554Z",
     "start_time": "2018-02-07T18:05:40.743530Z"
    },
    "run_control": {
     "frozen": false,
     "read_only": false
    }
   },
   "outputs": [],
   "source": [
    "%load_ext autoreload\n",
    "%autoreload 2"
   ]
  },
  {
   "cell_type": "code",
   "execution_count": 37,
   "metadata": {
    "ExecuteTime": {
     "end_time": "2018-02-08T15:38:29.085578Z",
     "start_time": "2018-02-08T15:38:28.640164Z"
    },
    "run_control": {
     "frozen": false,
     "read_only": false
    }
   },
   "outputs": [],
   "source": [
    "import sys,os\n",
    "import matplotlib.pyplot as plt\n",
    "import pandas as pd\n",
    "import json\n",
    "\n",
    "\n",
    "import ccxt\n",
    "sys.path.append('../')\n",
    "from core.database import ohlcv_functions\n",
    "#from core.markets import market\n",
    "from portfolio import portfolio_manager as pm"
   ]
  },
  {
   "cell_type": "code",
   "execution_count": 20,
   "metadata": {
    "ExecuteTime": {
     "end_time": "2018-02-08T14:49:00.923148Z",
     "start_time": "2018-02-08T14:49:00.823842Z"
    },
    "run_control": {
     "frozen": false,
     "read_only": false
    }
   },
   "outputs": [],
   "source": [
    "from core.database import database\n",
    "from sqlalchemy.engine.reflection import Inspector \n",
    "from sqlalchemy.sql import select, and_\n",
    "from sqlalchemy.exc import IntegrityError"
   ]
  },
  {
   "cell_type": "code",
   "execution_count": 16,
   "metadata": {
    "ExecuteTime": {
     "end_time": "2018-02-07T18:12:17.260993Z",
     "start_time": "2018-02-07T18:12:17.224995Z"
    },
    "run_control": {
     "frozen": false,
     "read_only": false
    }
   },
   "outputs": [
    {
     "name": "stdout",
     "output_type": "stream",
     "text": [
      "['OHLCV', 'TradingOrders', 'TradingPairs']\n",
      "[{'name': 'ID', 'type': INTEGER(), 'nullable': False, 'default': None, 'autoincrement': 'auto', 'primary_key': 1}, {'name': 'Exchange', 'type': VARCHAR(), 'nullable': True, 'default': None, 'autoincrement': 'auto', 'primary_key': 0}, {'name': 'Pair', 'type': VARCHAR(), 'nullable': True, 'default': None, 'autoincrement': 'auto', 'primary_key': 0}, {'name': 'Timestamp', 'type': VARCHAR(), 'nullable': True, 'default': None, 'autoincrement': 'auto', 'primary_key': 0}, {'name': 'Open', 'type': FLOAT(), 'nullable': True, 'default': None, 'autoincrement': 'auto', 'primary_key': 0}, {'name': 'High', 'type': FLOAT(), 'nullable': True, 'default': None, 'autoincrement': 'auto', 'primary_key': 0}, {'name': 'Low', 'type': FLOAT(), 'nullable': True, 'default': None, 'autoincrement': 'auto', 'primary_key': 0}, {'name': 'Close', 'type': FLOAT(), 'nullable': True, 'default': None, 'autoincrement': 'auto', 'primary_key': 0}, {'name': 'Volume', 'type': FLOAT(), 'nullable': True, 'default': None, 'autoincrement': 'auto', 'primary_key': 0}, {'name': 'Interval', 'type': VARCHAR(), 'nullable': True, 'default': None, 'autoincrement': 'auto', 'primary_key': 0}, {'name': 'TimestampRaw', 'type': INTEGER(), 'nullable': True, 'default': None, 'autoincrement': 'auto', 'primary_key': 0}, {'name': 'PairID', 'type': VARCHAR(), 'nullable': True, 'default': None, 'autoincrement': 'auto', 'primary_key': 0}]\n"
     ]
    }
   ],
   "source": [
    "engine = database.engine\n",
    "conn = engine.connect()\n",
    "\n",
    "                                                                              \n",
    "inspector = Inspector.from_engine(engine)                                                                                        \n",
    "print(inspector.get_table_names()) \n",
    "print(inspector.get_columns('OHLCV') )"
   ]
  },
  {
   "cell_type": "code",
   "execution_count": 8,
   "metadata": {
    "ExecuteTime": {
     "end_time": "2018-02-07T18:08:46.838898Z",
     "start_time": "2018-02-07T18:08:46.765791Z"
    },
    "run_control": {
     "frozen": false,
     "read_only": false
    }
   },
   "outputs": [
    {
     "data": {
      "text/html": [
       "<div>\n",
       "<style scoped>\n",
       "    .dataframe tbody tr th:only-of-type {\n",
       "        vertical-align: middle;\n",
       "    }\n",
       "\n",
       "    .dataframe tbody tr th {\n",
       "        vertical-align: top;\n",
       "    }\n",
       "\n",
       "    .dataframe thead th {\n",
       "        text-align: right;\n",
       "    }\n",
       "</style>\n",
       "<table border=\"1\" class=\"dataframe\">\n",
       "  <thead>\n",
       "    <tr style=\"text-align: right;\">\n",
       "      <th></th>\n",
       "      <th>ID</th>\n",
       "      <th>Exchange</th>\n",
       "      <th>Pair</th>\n",
       "      <th>Timestamp</th>\n",
       "      <th>Open</th>\n",
       "      <th>High</th>\n",
       "      <th>Low</th>\n",
       "      <th>Close</th>\n",
       "      <th>Volume</th>\n",
       "      <th>Interval</th>\n",
       "      <th>TimestampRaw</th>\n",
       "      <th>PairID</th>\n",
       "    </tr>\n",
       "  </thead>\n",
       "  <tbody>\n",
       "    <tr>\n",
       "      <th>0</th>\n",
       "      <td>1127</td>\n",
       "      <td>kraken</td>\n",
       "      <td>BTC/USD</td>\n",
       "      <td>2018-02-07 19:40:00</td>\n",
       "      <td>8300.5</td>\n",
       "      <td>8300.6</td>\n",
       "      <td>8263.3</td>\n",
       "      <td>8289.5</td>\n",
       "      <td>13.872112</td>\n",
       "      <td>5m</td>\n",
       "      <td>1518025200000</td>\n",
       "      <td>1</td>\n",
       "    </tr>\n",
       "    <tr>\n",
       "      <th>1</th>\n",
       "      <td>1126</td>\n",
       "      <td>kraken</td>\n",
       "      <td>BTC/USD</td>\n",
       "      <td>2018-02-07 19:35:00</td>\n",
       "      <td>8194.7</td>\n",
       "      <td>8318.0</td>\n",
       "      <td>8193.6</td>\n",
       "      <td>8300.7</td>\n",
       "      <td>50.285346</td>\n",
       "      <td>5m</td>\n",
       "      <td>1518024900000</td>\n",
       "      <td>1</td>\n",
       "    </tr>\n",
       "    <tr>\n",
       "      <th>2</th>\n",
       "      <td>1125</td>\n",
       "      <td>kraken</td>\n",
       "      <td>BTC/USD</td>\n",
       "      <td>2018-02-07 19:30:00</td>\n",
       "      <td>8201.1</td>\n",
       "      <td>8206.0</td>\n",
       "      <td>8190.0</td>\n",
       "      <td>8194.7</td>\n",
       "      <td>18.511864</td>\n",
       "      <td>5m</td>\n",
       "      <td>1518024600000</td>\n",
       "      <td>1</td>\n",
       "    </tr>\n",
       "    <tr>\n",
       "      <th>3</th>\n",
       "      <td>1124</td>\n",
       "      <td>kraken</td>\n",
       "      <td>BTC/USD</td>\n",
       "      <td>2018-02-07 19:25:00</td>\n",
       "      <td>8248.1</td>\n",
       "      <td>8248.2</td>\n",
       "      <td>8224.1</td>\n",
       "      <td>8224.5</td>\n",
       "      <td>10.360175</td>\n",
       "      <td>5m</td>\n",
       "      <td>1518024300000</td>\n",
       "      <td>1</td>\n",
       "    </tr>\n",
       "    <tr>\n",
       "      <th>4</th>\n",
       "      <td>1123</td>\n",
       "      <td>kraken</td>\n",
       "      <td>BTC/USD</td>\n",
       "      <td>2018-02-07 19:20:00</td>\n",
       "      <td>8200.9</td>\n",
       "      <td>8248.3</td>\n",
       "      <td>8195.0</td>\n",
       "      <td>8224.0</td>\n",
       "      <td>36.281021</td>\n",
       "      <td>5m</td>\n",
       "      <td>1518024000000</td>\n",
       "      <td>1</td>\n",
       "    </tr>\n",
       "  </tbody>\n",
       "</table>\n",
       "</div>"
      ],
      "text/plain": [
       "     ID Exchange     Pair            Timestamp    Open    High     Low  \\\n",
       "0  1127   kraken  BTC/USD  2018-02-07 19:40:00  8300.5  8300.6  8263.3   \n",
       "1  1126   kraken  BTC/USD  2018-02-07 19:35:00  8194.7  8318.0  8193.6   \n",
       "2  1125   kraken  BTC/USD  2018-02-07 19:30:00  8201.1  8206.0  8190.0   \n",
       "3  1124   kraken  BTC/USD  2018-02-07 19:25:00  8248.1  8248.2  8224.1   \n",
       "4  1123   kraken  BTC/USD  2018-02-07 19:20:00  8200.9  8248.3  8195.0   \n",
       "\n",
       "    Close     Volume Interval   TimestampRaw PairID  \n",
       "0  8289.5  13.872112       5m  1518025200000      1  \n",
       "1  8300.7  50.285346       5m  1518024900000      1  \n",
       "2  8194.7  18.511864       5m  1518024600000      1  \n",
       "3  8224.5  10.360175       5m  1518024300000      1  \n",
       "4  8224.0  36.281021       5m  1518024000000      1  "
      ]
     },
     "execution_count": 8,
     "metadata": {},
     "output_type": "execute_result"
    }
   ],
   "source": [
    "data=ohlcv_functions.get_latest_N_candles_as_df('kraken','BTC/USD','5m',10000)\n",
    "data.head()"
   ]
  },
  {
   "cell_type": "code",
   "execution_count": 15,
   "metadata": {
    "ExecuteTime": {
     "end_time": "2018-02-07T18:11:35.160925Z",
     "start_time": "2018-02-07T18:11:34.814384Z"
    },
    "run_control": {
     "frozen": false,
     "read_only": false
    }
   },
   "outputs": [
    {
     "name": "stderr",
     "output_type": "stream",
     "text": [
      "/Users/yabebal/anaconda/envs/crypto/lib/python3.6/site-packages/pandas/plotting/_core.py:1716: UserWarning: Pandas doesn't allow columns to be created via a new attribute name - see https://pandas.pydata.org/pandas-docs/stable/indexing.html#attribute-access\n",
      "  series.name = label\n"
     ]
    },
    {
     "data": {
      "image/png": "[encoded data removed]",
      "text/plain": [
       "<matplotlib.figure.Figure at 0x122983dd8>"
      ]
     },
     "metadata": {},
     "output_type": "display_data"
    }
   ],
   "source": [
    "# Library to explore visualization of API data. Critical to ensure data integrity as \n",
    "# well as confirm strategy indicators are calculated correctly .\n",
    "\n",
    "\n",
    "def historical_ta_plot(historical_status):\n",
    "    \"\"\"Make basic matplotlib line chart with close and moving \n",
    "    averages on the Y axis for historical data and new candles\n",
    "    \"\"\"\n",
    "    if historical_status:\n",
    "        #data = ohlcv_functions.get_historical_ta_data_as_df()\n",
    "        data=ohlcv_functions.get_latest_N_candles_as_df('kraken','BTC/USD','5m',10)\n",
    "        data.sort_values('Timestamp').plot(x='Timestamp', y=['High','Low'])\n",
    "        plt.show()\n",
    "\n",
    "\n",
    "historical_ta_plot(True)"
   ]
  },
  {
   "cell_type": "code",
   "execution_count": 25,
   "metadata": {
    "ExecuteTime": {
     "end_time": "2018-02-08T14:59:37.711147Z",
     "start_time": "2018-02-08T14:59:37.171770Z"
    },
    "run_control": {
     "frozen": false,
     "read_only": false
    }
   },
   "outputs": [
    {
     "data": {
      "text/html": [
       "<div>\n",
       "<style scoped>\n",
       "    .dataframe tbody tr th:only-of-type {\n",
       "        vertical-align: middle;\n",
       "    }\n",
       "\n",
       "    .dataframe tbody tr th {\n",
       "        vertical-align: top;\n",
       "    }\n",
       "\n",
       "    .dataframe thead th {\n",
       "        text-align: right;\n",
       "    }\n",
       "</style>\n",
       "<table border=\"1\" class=\"dataframe\">\n",
       "  <thead>\n",
       "    <tr style=\"text-align: right;\">\n",
       "      <th></th>\n",
       "      <th>Timestamp</th>\n",
       "      <th>OrderID</th>\n",
       "      <th>Exchange</th>\n",
       "      <th>Pair</th>\n",
       "      <th>Position</th>\n",
       "      <th>Amount</th>\n",
       "      <th>Price</th>\n",
       "      <th>Simulated</th>\n",
       "    </tr>\n",
       "  </thead>\n",
       "  <tbody>\n",
       "    <tr>\n",
       "      <th>0</th>\n",
       "      <td>2018-02-07 18:36:22</td>\n",
       "      <td>1</td>\n",
       "      <td>kraken</td>\n",
       "      <td>BTC/USD</td>\n",
       "      <td>buy</td>\n",
       "      <td>1.0</td>\n",
       "      <td>8100.0</td>\n",
       "      <td>simulated</td>\n",
       "    </tr>\n",
       "    <tr>\n",
       "      <th>1</th>\n",
       "      <td>2018-02-07 18:36:22</td>\n",
       "      <td>2</td>\n",
       "      <td>kraken</td>\n",
       "      <td>BTC/USD</td>\n",
       "      <td>sell</td>\n",
       "      <td>1.0</td>\n",
       "      <td>8120.0</td>\n",
       "      <td>simulated</td>\n",
       "    </tr>\n",
       "    <tr>\n",
       "      <th>2</th>\n",
       "      <td>2018-02-07 18:36:22</td>\n",
       "      <td>3</td>\n",
       "      <td>kraken</td>\n",
       "      <td>BTC/USD</td>\n",
       "      <td>buy</td>\n",
       "      <td>1.0</td>\n",
       "      <td>8120.0</td>\n",
       "      <td>simulated</td>\n",
       "    </tr>\n",
       "    <tr>\n",
       "      <th>3</th>\n",
       "      <td>2018-02-07 18:36:22</td>\n",
       "      <td>4</td>\n",
       "      <td>kraken</td>\n",
       "      <td>BTC/USD</td>\n",
       "      <td>sell</td>\n",
       "      <td>1.0</td>\n",
       "      <td>8171.5</td>\n",
       "      <td>simulated</td>\n",
       "    </tr>\n",
       "    <tr>\n",
       "      <th>4</th>\n",
       "      <td>2018-02-07 18:36:22</td>\n",
       "      <td>5</td>\n",
       "      <td>kraken</td>\n",
       "      <td>BTC/USD</td>\n",
       "      <td>buy</td>\n",
       "      <td>1.0</td>\n",
       "      <td>8171.5</td>\n",
       "      <td>simulated</td>\n",
       "    </tr>\n",
       "  </tbody>\n",
       "</table>\n",
       "</div>"
      ],
      "text/plain": [
       "             Timestamp  OrderID Exchange     Pair Position  Amount   Price  \\\n",
       "0  2018-02-07 18:36:22        1   kraken  BTC/USD      buy     1.0  8100.0   \n",
       "1  2018-02-07 18:36:22        2   kraken  BTC/USD     sell     1.0  8120.0   \n",
       "2  2018-02-07 18:36:22        3   kraken  BTC/USD      buy     1.0  8120.0   \n",
       "3  2018-02-07 18:36:22        4   kraken  BTC/USD     sell     1.0  8171.5   \n",
       "4  2018-02-07 18:36:22        5   kraken  BTC/USD      buy     1.0  8171.5   \n",
       "\n",
       "   Simulated  \n",
       "0  simulated  \n",
       "1  simulated  \n",
       "2  simulated  \n",
       "3  simulated  \n",
       "4  simulated  "
      ]
     },
     "execution_count": 25,
     "metadata": {},
     "output_type": "execute_result"
    }
   ],
   "source": [
    "table=database.TradingOrders\n",
    "def get_number_of_trades(exchange, pair):\n",
    "    s = select([func.count()]).where(and_(database.TradingOrders.c.Exchange == exchange, database.TradingOrders.c.Pair == pair)).select_from(database.TradingOrders)\n",
    "    result = conn.execute(s)\n",
    "    return int(result)\n",
    "\n",
    "\n",
    "def get_trades_for_pair_as_df(exchange, pair):\n",
    "    \"\"\"Returns all trades for given exchange pair over the course of trading in a dataframe\"\"\"\n",
    "    s = select([database.TradingOrders]).where(and_(database.TradingOrders.c.Exchange == exchange, database.TradingOrders.c.Pair == pair))\n",
    "    result = conn.execute(s)\n",
    "    df = pd.DataFrame(result.fetchall())\n",
    "    df.columns = result.keys()\n",
    "    result.close()\n",
    "    return df\n",
    "\n",
    "def get_profit_for_pair(exchange, pair):\n",
    "    \"\"\"Iterates through all trades for given exchange pair over the course of trading. Starts by subtracting the long positions (the buys) \n",
    "and adding the short positions (the sells) to arrive at the difference (profit\"\"\"\n",
    "    \"\"\"The buys are always the even rows and the sells are the odd rows (buy always before sell starting from zero)\"\"\"\n",
    "    profit = 0\n",
    "    counter = 0\n",
    "    s = select([database.TradingOrders]).where(and_(database.TradingOrders.c.Exchange == exchange, database.TradingOrders.c.Pair == pair))\n",
    "    result = conn.execute(s)\n",
    "\n",
    "    for row in result:\n",
    "        if counter % 2 == 0:\n",
    "            profit = profit - row[5]\n",
    "            counter += 1\n",
    "        else:\n",
    "            profit = profit + row[5]\n",
    "            counter += 1\n",
    "        return profit\n",
    "\n",
    "\n",
    "trade=get_trades_for_pair_as_df('kraken', 'BTC/USD')\n",
    "trade.head()"
   ]
  },
  {
   "cell_type": "code",
   "execution_count": 36,
   "metadata": {
    "ExecuteTime": {
     "end_time": "2018-02-08T15:09:09.570191Z",
     "start_time": "2018-02-08T15:09:09.257462Z"
    },
    "run_control": {
     "frozen": false,
     "read_only": false
    }
   },
   "outputs": [
    {
     "name": "stderr",
     "output_type": "stream",
     "text": [
      "/Users/yabebal/anaconda/envs/crypto/lib/python3.6/site-packages/pandas/plotting/_core.py:1716: UserWarning: Pandas doesn't allow columns to be created via a new attribute name - see https://pandas.pydata.org/pandas-docs/stable/indexing.html#attribute-access\n",
      "  series.name = label\n"
     ]
    },
    {
     "data": {
      "image/png": "[encoded data removed]",
      "text/plain": [
       "<matplotlib.figure.Figure at 0x122981dd8>"
      ]
     },
     "metadata": {},
     "output_type": "display_data"
    }
   ],
   "source": [
    "ax=plt.subplot()\n",
    "trade[trade['Position']==\"buy\"].sort_values('Timestamp').plot(x='Timestamp', y=['Price'],ax=ax)\n",
    "trade[trade['Position']==\"sell\"].sort_values('Timestamp').plot(x='Timestamp', y=['Price'],ax=ax)\n",
    "ax.legend([\"Buy\", \"Sell\"]);"
   ]
  },
  {
   "cell_type": "markdown",
   "metadata": {},
   "source": [
    "### Converting tick-by-tick data to OHLC data using pandas"
   ]
  },
  {
   "cell_type": "code",
   "execution_count": 47,
   "metadata": {
    "ExecuteTime": {
     "end_time": "2018-02-08T21:24:43.033516Z",
     "start_time": "2018-02-08T21:24:42.315197Z"
    },
    "run_control": {
     "frozen": false,
     "read_only": false
    }
   },
   "outputs": [
    {
     "name": "stdout",
     "output_type": "stream",
     "text": [
      "{'symbol': 'ETH/EUR', 'timestamp': 1518125079000, 'datetime': '2018-02-08T21:24:39.000Z', 'high': 694.01, 'low': 606.49, 'bid': 652.62, 'ask': 655.98, 'vwap': 656.56, 'open': 611.84, 'close': None, 'first': None, 'last': 652.55, 'change': None, 'percentage': None, 'average': None, 'baseVolume': 21566.49575298, 'quoteVolume': 14159698.451576548, 'info': {'high': '694.01', 'last': '652.55', 'timestamp': '1518125079', 'bid': '652.62', 'vwap': '656.56', 'volume': '21566.49575298', 'low': '606.49', 'ask': '655.98', 'open': '611.84'}}\n"
     ]
    }
   ],
   "source": [
    "#https://www.quantinsti.com/blog/tick-tick-ohlc-data-pandas-tutorial/\n",
    "\n",
    "exchange_name='bitstamp'\n",
    "api_kv=json.load(open(f'/Users/yabebal/.crypto/{exchange_name}.json'))\n",
    "\n",
    "\n",
    "\n",
    "exchange_func = getattr(ccxt, exchange_name)\n",
    "exchange=exchange_func(api_kv)\n",
    "res=exchange.fetch_ticker('ETH/EUR')\n",
    "\n",
    "print(res)\n"
   ]
  },
  {
   "cell_type": "code",
   "execution_count": 43,
   "metadata": {
    "ExecuteTime": {
     "end_time": "2018-02-08T21:24:10.414679Z",
     "start_time": "2018-02-08T21:24:10.330621Z"
    },
    "run_control": {
     "frozen": false,
     "read_only": false
    }
   },
   "outputs": [
    {
     "ename": "FileNotFoundError",
     "evalue": "File b'AUDJPY-2016-01.csv' does not exist",
     "output_type": "error",
     "traceback": [
      "\u001b[0;31m---------------------------------------------------------------------------\u001b[0m",
      "\u001b[0;31mFileNotFoundError\u001b[0m                         Traceback (most recent call last)",
      "\u001b[0;32m<ipython-input-43-08942c684f79>\u001b[0m in \u001b[0;36m<module>\u001b[0;34m()\u001b[0m\n\u001b[1;32m      1\u001b[0m data_frame = pd.read_csv('AUDJPY-2016-01.csv', names=['Symbol', 'Date_Time', 'Bid', 'Ask'],\n\u001b[1;32m      2\u001b[0m \u001b[0;34m\u001b[0m\u001b[0m\n\u001b[0;32m----> 3\u001b[0;31m index_col=1, parse_dates=True)\n\u001b[0m\u001b[1;32m      4\u001b[0m \u001b[0;34m\u001b[0m\u001b[0m\n\u001b[1;32m      5\u001b[0m \u001b[0mdata_frame\u001b[0m\u001b[0;34m.\u001b[0m\u001b[0mhead\u001b[0m\u001b[0;34m(\u001b[0m\u001b[0;34m)\u001b[0m\u001b[0;34m\u001b[0m\u001b[0m\n",
      "\u001b[0;32m~/anaconda/envs/crypto/lib/python3.6/site-packages/pandas/io/parsers.py\u001b[0m in \u001b[0;36mparser_f\u001b[0;34m(filepath_or_buffer, sep, delimiter, header, names, index_col, usecols, squeeze, prefix, mangle_dupe_cols, dtype, engine, converters, true_values, false_values, skipinitialspace, skiprows, nrows, na_values, keep_default_na, na_filter, verbose, skip_blank_lines, parse_dates, infer_datetime_format, keep_date_col, date_parser, dayfirst, iterator, chunksize, compression, thousands, decimal, lineterminator, quotechar, quoting, escapechar, comment, encoding, dialect, tupleize_cols, error_bad_lines, warn_bad_lines, skipfooter, skip_footer, doublequote, delim_whitespace, as_recarray, compact_ints, use_unsigned, low_memory, buffer_lines, memory_map, float_precision)\u001b[0m\n\u001b[1;32m    707\u001b[0m                     skip_blank_lines=skip_blank_lines)\n\u001b[1;32m    708\u001b[0m \u001b[0;34m\u001b[0m\u001b[0m\n\u001b[0;32m--> 709\u001b[0;31m         \u001b[0;32mreturn\u001b[0m \u001b[0m_read\u001b[0m\u001b[0;34m(\u001b[0m\u001b[0mfilepath_or_buffer\u001b[0m\u001b[0;34m,\u001b[0m \u001b[0mkwds\u001b[0m\u001b[0;34m)\u001b[0m\u001b[0;34m\u001b[0m\u001b[0m\n\u001b[0m\u001b[1;32m    710\u001b[0m \u001b[0;34m\u001b[0m\u001b[0m\n\u001b[1;32m    711\u001b[0m     \u001b[0mparser_f\u001b[0m\u001b[0;34m.\u001b[0m\u001b[0m__name__\u001b[0m \u001b[0;34m=\u001b[0m \u001b[0mname\u001b[0m\u001b[0;34m\u001b[0m\u001b[0m\n",
      "\u001b[0;32m~/anaconda/envs/crypto/lib/python3.6/site-packages/pandas/io/parsers.py\u001b[0m in \u001b[0;36m_read\u001b[0;34m(filepath_or_buffer, kwds)\u001b[0m\n\u001b[1;32m    447\u001b[0m \u001b[0;34m\u001b[0m\u001b[0m\n\u001b[1;32m    448\u001b[0m     \u001b[0;31m# Create the parser.\u001b[0m\u001b[0;34m\u001b[0m\u001b[0;34m\u001b[0m\u001b[0m\n\u001b[0;32m--> 449\u001b[0;31m     \u001b[0mparser\u001b[0m \u001b[0;34m=\u001b[0m \u001b[0mTextFileReader\u001b[0m\u001b[0;34m(\u001b[0m\u001b[0mfilepath_or_buffer\u001b[0m\u001b[0;34m,\u001b[0m \u001b[0;34m**\u001b[0m\u001b[0mkwds\u001b[0m\u001b[0;34m)\u001b[0m\u001b[0;34m\u001b[0m\u001b[0m\n\u001b[0m\u001b[1;32m    450\u001b[0m \u001b[0;34m\u001b[0m\u001b[0m\n\u001b[1;32m    451\u001b[0m     \u001b[0;32mif\u001b[0m \u001b[0mchunksize\u001b[0m \u001b[0;32mor\u001b[0m \u001b[0miterator\u001b[0m\u001b[0;34m:\u001b[0m\u001b[0;34m\u001b[0m\u001b[0m\n",
      "\u001b[0;32m~/anaconda/envs/crypto/lib/python3.6/site-packages/pandas/io/parsers.py\u001b[0m in \u001b[0;36m__init__\u001b[0;34m(self, f, engine, **kwds)\u001b[0m\n\u001b[1;32m    816\u001b[0m             \u001b[0mself\u001b[0m\u001b[0;34m.\u001b[0m\u001b[0moptions\u001b[0m\u001b[0;34m[\u001b[0m\u001b[0;34m'has_index_names'\u001b[0m\u001b[0;34m]\u001b[0m \u001b[0;34m=\u001b[0m \u001b[0mkwds\u001b[0m\u001b[0;34m[\u001b[0m\u001b[0;34m'has_index_names'\u001b[0m\u001b[0;34m]\u001b[0m\u001b[0;34m\u001b[0m\u001b[0m\n\u001b[1;32m    817\u001b[0m \u001b[0;34m\u001b[0m\u001b[0m\n\u001b[0;32m--> 818\u001b[0;31m         \u001b[0mself\u001b[0m\u001b[0;34m.\u001b[0m\u001b[0m_make_engine\u001b[0m\u001b[0;34m(\u001b[0m\u001b[0mself\u001b[0m\u001b[0;34m.\u001b[0m\u001b[0mengine\u001b[0m\u001b[0;34m)\u001b[0m\u001b[0;34m\u001b[0m\u001b[0m\n\u001b[0m\u001b[1;32m    819\u001b[0m \u001b[0;34m\u001b[0m\u001b[0m\n\u001b[1;32m    820\u001b[0m     \u001b[0;32mdef\u001b[0m \u001b[0mclose\u001b[0m\u001b[0;34m(\u001b[0m\u001b[0mself\u001b[0m\u001b[0;34m)\u001b[0m\u001b[0;34m:\u001b[0m\u001b[0;34m\u001b[0m\u001b[0m\n",
      "\u001b[0;32m~/anaconda/envs/crypto/lib/python3.6/site-packages/pandas/io/parsers.py\u001b[0m in \u001b[0;36m_make_engine\u001b[0;34m(self, engine)\u001b[0m\n\u001b[1;32m   1047\u001b[0m     \u001b[0;32mdef\u001b[0m \u001b[0m_make_engine\u001b[0m\u001b[0;34m(\u001b[0m\u001b[0mself\u001b[0m\u001b[0;34m,\u001b[0m \u001b[0mengine\u001b[0m\u001b[0;34m=\u001b[0m\u001b[0;34m'c'\u001b[0m\u001b[0;34m)\u001b[0m\u001b[0;34m:\u001b[0m\u001b[0;34m\u001b[0m\u001b[0m\n\u001b[1;32m   1048\u001b[0m         \u001b[0;32mif\u001b[0m \u001b[0mengine\u001b[0m \u001b[0;34m==\u001b[0m \u001b[0;34m'c'\u001b[0m\u001b[0;34m:\u001b[0m\u001b[0;34m\u001b[0m\u001b[0m\n\u001b[0;32m-> 1049\u001b[0;31m             \u001b[0mself\u001b[0m\u001b[0;34m.\u001b[0m\u001b[0m_engine\u001b[0m \u001b[0;34m=\u001b[0m \u001b[0mCParserWrapper\u001b[0m\u001b[0;34m(\u001b[0m\u001b[0mself\u001b[0m\u001b[0;34m.\u001b[0m\u001b[0mf\u001b[0m\u001b[0;34m,\u001b[0m \u001b[0;34m**\u001b[0m\u001b[0mself\u001b[0m\u001b[0;34m.\u001b[0m\u001b[0moptions\u001b[0m\u001b[0;34m)\u001b[0m\u001b[0;34m\u001b[0m\u001b[0m\n\u001b[0m\u001b[1;32m   1050\u001b[0m         \u001b[0;32melse\u001b[0m\u001b[0;34m:\u001b[0m\u001b[0;34m\u001b[0m\u001b[0m\n\u001b[1;32m   1051\u001b[0m             \u001b[0;32mif\u001b[0m \u001b[0mengine\u001b[0m \u001b[0;34m==\u001b[0m \u001b[0;34m'python'\u001b[0m\u001b[0;34m:\u001b[0m\u001b[0;34m\u001b[0m\u001b[0m\n",
      "\u001b[0;32m~/anaconda/envs/crypto/lib/python3.6/site-packages/pandas/io/parsers.py\u001b[0m in \u001b[0;36m__init__\u001b[0;34m(self, src, **kwds)\u001b[0m\n\u001b[1;32m   1693\u001b[0m         \u001b[0mkwds\u001b[0m\u001b[0;34m[\u001b[0m\u001b[0;34m'allow_leading_cols'\u001b[0m\u001b[0;34m]\u001b[0m \u001b[0;34m=\u001b[0m \u001b[0mself\u001b[0m\u001b[0;34m.\u001b[0m\u001b[0mindex_col\u001b[0m \u001b[0;32mis\u001b[0m \u001b[0;32mnot\u001b[0m \u001b[0;32mFalse\u001b[0m\u001b[0;34m\u001b[0m\u001b[0m\n\u001b[1;32m   1694\u001b[0m \u001b[0;34m\u001b[0m\u001b[0m\n\u001b[0;32m-> 1695\u001b[0;31m         \u001b[0mself\u001b[0m\u001b[0;34m.\u001b[0m\u001b[0m_reader\u001b[0m \u001b[0;34m=\u001b[0m \u001b[0mparsers\u001b[0m\u001b[0;34m.\u001b[0m\u001b[0mTextReader\u001b[0m\u001b[0;34m(\u001b[0m\u001b[0msrc\u001b[0m\u001b[0;34m,\u001b[0m \u001b[0;34m**\u001b[0m\u001b[0mkwds\u001b[0m\u001b[0;34m)\u001b[0m\u001b[0;34m\u001b[0m\u001b[0m\n\u001b[0m\u001b[1;32m   1696\u001b[0m \u001b[0;34m\u001b[0m\u001b[0m\n\u001b[1;32m   1697\u001b[0m         \u001b[0;31m# XXX\u001b[0m\u001b[0;34m\u001b[0m\u001b[0;34m\u001b[0m\u001b[0m\n",
      "\u001b[0;32mpandas/_libs/parsers.pyx\u001b[0m in \u001b[0;36mpandas._libs.parsers.TextReader.__cinit__\u001b[0;34m()\u001b[0m\n",
      "\u001b[0;32mpandas/_libs/parsers.pyx\u001b[0m in \u001b[0;36mpandas._libs.parsers.TextReader._setup_parser_source\u001b[0;34m()\u001b[0m\n",
      "\u001b[0;31mFileNotFoundError\u001b[0m: File b'AUDJPY-2016-01.csv' does not exist"
     ]
    }
   ],
   "source": [
    "data_frame = pd.read_csv('AUDJPY-2016-01.csv', names=['Symbol', 'Date_Time', 'Bid', 'Ask'],\n",
    "\n",
    "index_col=1, parse_dates=True)\n",
    "\n",
    "data_frame.head()\n",
    "\n",
    "data_ask =  data_frame['Ask'].resample('15Min').ohlc()\n",
    "\n",
    "data_bid =  data_frame['Bid'].resample('15Min').ohlc()\n",
    "\n",
    "data_ask.head()\n",
    "\n",
    "data_bid.head()\n",
    "\n",
    "data_ask_bid=pd.concat([data_ask, data_bid], axis=1, keys=['Ask', 'Bid'])"
   ]
  },
  {
   "cell_type": "code",
   "execution_count": 48,
   "metadata": {
    "ExecuteTime": {
     "end_time": "2018-02-09T19:14:02.185092Z",
     "start_time": "2018-02-09T19:14:01.688827Z"
    }
   },
   "outputs": [
    {
     "ename": "ImportError",
     "evalue": "cannot import name 'client'",
     "output_type": "error",
     "traceback": [
      "\u001b[0;31m---------------------------------------------------------------------------\u001b[0m",
      "\u001b[0;31mImportError\u001b[0m                               Traceback (most recent call last)",
      "\u001b[0;32m<ipython-input-48-7ebbf25bd3ef>\u001b[0m in \u001b[0;36m<module>\u001b[0;34m()\u001b[0m\n\u001b[0;32m----> 1\u001b[0;31m \u001b[0;32mfrom\u001b[0m \u001b[0mpyalgotrade\u001b[0m\u001b[0;34m.\u001b[0m\u001b[0mbitstamp\u001b[0m \u001b[0;32mimport\u001b[0m \u001b[0mclient\u001b[0m\u001b[0;34m\u001b[0m\u001b[0m\n\u001b[0m\u001b[1;32m      2\u001b[0m \u001b[0;32mfrom\u001b[0m \u001b[0mpyalgotrade\u001b[0m\u001b[0;34m.\u001b[0m\u001b[0mbitstamp\u001b[0m \u001b[0;32mimport\u001b[0m \u001b[0mbarfeed\u001b[0m\u001b[0;34m\u001b[0m\u001b[0m\n\u001b[1;32m      3\u001b[0m \u001b[0;32mfrom\u001b[0m \u001b[0mpyalgotrade\u001b[0m\u001b[0;34m.\u001b[0m\u001b[0mbitstamp\u001b[0m \u001b[0;32mimport\u001b[0m \u001b[0mbroker\u001b[0m\u001b[0;34m\u001b[0m\u001b[0m\n\u001b[1;32m      4\u001b[0m \u001b[0;32mfrom\u001b[0m \u001b[0mpyalgotrade\u001b[0m \u001b[0;32mimport\u001b[0m \u001b[0mstrategy\u001b[0m\u001b[0;34m\u001b[0m\u001b[0m\n\u001b[1;32m      5\u001b[0m \u001b[0;32mfrom\u001b[0m \u001b[0mpyalgotrade\u001b[0m\u001b[0;34m.\u001b[0m\u001b[0mtechnical\u001b[0m \u001b[0;32mimport\u001b[0m \u001b[0mma\u001b[0m\u001b[0;34m\u001b[0m\u001b[0m\n",
      "\u001b[0;31mImportError\u001b[0m: cannot import name 'client'"
     ]
    }
   ],
   "source": [
    "from pyalgotrade.bitstamp import client\n",
    "from pyalgotrade.bitstamp import barfeed\n",
    "from pyalgotrade.bitstamp import broker\n",
    "from pyalgotrade import strategy\n",
    "from pyalgotrade.technical import ma\n",
    "from pyalgotrade.technical import cross\n",
    "\n",
    "\n",
    "class Strategy(strategy.BaseStrategy):\n",
    "    def __init__(self, cli, feed, brk):\n",
    "        strategy.BaseStrategy.__init__(self, feed, brk)\n",
    "        smaPeriod = 20\n",
    "        self.__instrument = \"BTC\"\n",
    "        self.__prices = feed[self.__instrument].getCloseDataSeries()\n",
    "        self.__sma = ma.SMA(self.__prices, smaPeriod)\n",
    "        self.__bid = None\n",
    "        self.__ask = None\n",
    "        self.__position = None\n",
    "        self.__posSize = 0.05\n",
    "\n",
    "        # Subscribe to order book update events to get bid/ask prices to trade.\n",
    "        cli.getOrderBookUpdateEvent().subscribe(self.__onOrderBookUpdate)\n",
    "\n",
    "    def __onOrderBookUpdate(self, orderBookUpdate):\n",
    "        bid = orderBookUpdate.getBidPrices()[0]\n",
    "        ask = orderBookUpdate.getAskPrices()[0]\n",
    "\n",
    "        if bid != self.__bid or ask != self.__ask:\n",
    "            self.__bid = bid\n",
    "            self.__ask = ask\n",
    "            self.info(\"Order book updated. Best bid: %s. Best ask: %s\" % (self.__bid, self.__ask))\n",
    "\n",
    "    def onEnterOk(self, position):\n",
    "        self.info(\"Position opened at %s\" % (position.getEntryOrder().getExecutionInfo().getPrice()))\n",
    "\n",
    "    def onEnterCanceled(self, position):\n",
    "        self.info(\"Position entry canceled\")\n",
    "        self.__position = None\n",
    "\n",
    "    def onExitOk(self, position):\n",
    "        self.__position = None\n",
    "        self.info(\"Position closed at %s\" % (position.getExitOrder().getExecutionInfo().getPrice()))\n",
    "\n",
    "    def onExitCanceled(self, position):\n",
    "        # If the exit was canceled, re-submit it.\n",
    "        self.__position.exitLimit(self.__bid)\n",
    "\n",
    "    def onBars(self, bars):\n",
    "        bar = bars[self.__instrument]\n",
    "        self.info(\"Price: %s. Volume: %s.\" % (bar.getClose(), bar.getVolume()))\n",
    "\n",
    "        # Wait until we get the current bid/ask prices.\n",
    "        if self.__ask is None:\n",
    "            return\n",
    "\n",
    "        # If a position was not opened, check if we should enter a long position.\n",
    "        if self.__position is None:\n",
    "            if cross.cross_above(self.__prices, self.__sma) > 0:\n",
    "                self.info(\"Entry signal. Buy at %s\" % (self.__ask))\n",
    "                self.__position = self.enterLongLimit(self.__instrument, self.__ask, self.__posSize, True)\n",
    "        # Check if we have to close the position.\n",
    "        elif not self.__position.exitActive() and cross.cross_below(self.__prices, self.__sma) > 0:\n",
    "            self.info(\"Exit signal. Sell at %s\" % (self.__bid))\n",
    "            self.__position.exitLimit(self.__bid)\n",
    "\n",
    "\n",
    "def main():\n",
    "    cli = client.Client()\n",
    "    barFeed = barfeed.LiveTradeFeed(cli)\n",
    "    brk = broker.PaperTradingBroker(1000, barFeed)\n",
    "    strat = Strategy(cli, barFeed, brk)\n",
    "\n",
    "    # It is VERY important to add the client to the event dispatch loop before running the strategy.\n",
    "    strat.getDispatcher().addSubject(cli)\n",
    "    strat.run()\n",
    "\n",
    "#if __name__ == \"__main__\":\n",
    "main()"
   ]
  },
  {
   "cell_type": "code",
   "execution_count": null,
   "metadata": {},
   "outputs": [],
   "source": []
  }
 ],
 "metadata": {
  "hide_input": false,
  "kernelspec": {
   "display_name": "Python [conda env:crypto]",
   "language": "python",
   "name": "conda-env-crypto-py"
  },
  "language_info": {
   "codemirror_mode": {
    "name": "ipython",
    "version": 3
   },
   "file_extension": ".py",
   "mimetype": "text/x-python",
   "name": "python",
   "nbconvert_exporter": "python",
   "pygments_lexer": "ipython3",
   "version": "3.6.4"
  },
  "latex_envs": {
   "bibliofile": "biblio.bib",
   "cite_by": "apalike",
   "current_citInitial": 1,
   "eqLabelWithNumbers": true,
   "eqNumInitial": 0
  }
 },
 "nbformat": 4,
 "nbformat_minor": 2
}
